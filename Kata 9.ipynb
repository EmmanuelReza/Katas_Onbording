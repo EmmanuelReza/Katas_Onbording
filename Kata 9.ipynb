{
 "cells": [
  {
   "cell_type": "markdown",
   "metadata": {},
   "source": [
    "# Kata 9.- Uso de Funciones de Python"
   ]
  },
  {
   "cell_type": "markdown",
   "metadata": {},
   "source": [
    "# Ejercicio 1"
   ]
  },
  {
   "cell_type": "code",
   "execution_count": 1,
   "metadata": {},
   "outputs": [],
   "source": [
    "# Función para leer 3 tanques de combustible y muestre el promedio\n",
    "def Generar_reporte(Tanque_principal, Tanque_externo, Tanque_de_hidorgeno) :\n",
    "    Promedio_total = (Tanque_principal + Tanque_externo + Tanque_de_hidorgeno) / 3\n",
    "    return f\"\"\"Reporte de combustible:\n",
    "    Promedio total: {Promedio_total}%\n",
    "    Tanque principal: {Tanque_principal}%\n",
    "    Tanque externo: {Tanque_externo}%\n",
    "    Tanque de hidrogeno: {Tanque_de_hidorgeno}%\n",
    "    \"\"\""
   ]
  },
  {
   "cell_type": "code",
   "execution_count": 2,
   "metadata": {},
   "outputs": [
    {
     "name": "stdout",
     "output_type": "stream",
     "text": [
      "Reporte de combustible:\n",
      "    Promedio total: 78.33333333333333%\n",
      "    Tanque principal: 80%\n",
      "    Tanque externo: 70%\n",
      "    Tanque de hidrogeno: 85%\n",
      "    \n"
     ]
    }
   ],
   "source": [
    "# Llamamos a la función que genera el reporte print(funcion(tanque1, tanque2, tanque3))\n",
    "print(Generar_reporte(80, 70, 85))"
   ]
  },
  {
   "cell_type": "code",
   "execution_count": 3,
   "metadata": {},
   "outputs": [
    {
     "data": {
      "text/plain": [
       "82.0"
      ]
     },
     "execution_count": 3,
     "metadata": {},
     "output_type": "execute_result"
    }
   ],
   "source": [
    "# Función promedio \n",
    "def Promedio(valores):\n",
    "    Total = sum(valores)\n",
    "    numero_de_items = len(valores)\n",
    "    return Total / numero_de_items\n",
    "\n",
    "# Test the averaging function with a list of integers:\n",
    "Promedio([80, 85, 81]) "
   ]
  },
  {
   "cell_type": "code",
   "execution_count": 4,
   "metadata": {},
   "outputs": [
    {
     "name": "stdout",
     "output_type": "stream",
     "text": [
      "Reporte de combustible:\n",
      "    Promedio total: 78.0%\n",
      "    Tanque principal: 88%\n",
      "    Tanque externo: 76%\n",
      "    Tanque de hidrogeno: 70%\n",
      "    \n"
     ]
    }
   ],
   "source": [
    "# Actualiza la función\n",
    "def Generar_reporte(Tanque_principal, Tanque_externo, Tanque_de_hidorgeno) :\n",
    "    return f\"\"\"Reporte de combustible:\n",
    "    Promedio total: {Promedio([Tanque_principal, Tanque_externo, Tanque_de_hidorgeno])}%\n",
    "    Tanque principal: {Tanque_principal}%\n",
    "    Tanque externo: {Tanque_externo}%\n",
    "    Tanque de hidrogeno: {Tanque_de_hidorgeno}%\n",
    "    \"\"\"\n",
    "# Call the updated function again with different values\n",
    "print(Generar_reporte(88, 76, 70))"
   ]
  },
  {
   "cell_type": "markdown",
   "metadata": {},
   "source": [
    "# Ejercicio 2"
   ]
  },
  {
   "cell_type": "code",
   "execution_count": 5,
   "metadata": {},
   "outputs": [
    {
     "name": "stdout",
     "output_type": "stream",
     "text": [
      "\n",
      "    Misión a: Luna\n",
      "    Tiempo total de vuelo: 65 minutos\n",
      "    Combustible total restante: 500000 galones\n",
      "    \n"
     ]
    }
   ],
   "source": [
    "# Función con un informe preciso de la misión. Considera hora de prelanzamiento, tiempo de vuelo,\n",
    "# destino, tanque externo y tanque interno\n",
    "def Reporte_de_misión(Tiempo_de_Prelanzamiento, tiempo_de_vuelo, destino, Tanque_externo, Tanque_principal):\n",
    "    return f\"\"\"\n",
    "    Misión a: {destino}\n",
    "    Tiempo total de vuelo: {Tiempo_de_Prelanzamiento + tiempo_de_vuelo} minutos\n",
    "    Combustible total restante: {Tanque_externo + Tanque_principal} galones\n",
    "    \"\"\"\n",
    "\n",
    "print(Reporte_de_misión(14, 51, \"Luna\", 200000, 300000))"
   ]
  },
  {
   "cell_type": "code",
   "execution_count": 6,
   "metadata": {},
   "outputs": [
    {
     "name": "stdout",
     "output_type": "stream",
     "text": [
      "\n",
      "    Misión a: Luna\n",
      "    Tiempo total de vuelo: 76 minutos\n",
      "    Combustible total restante: 500000\n",
      "    \n"
     ]
    }
   ],
   "source": [
    "# Escribe tu nueva función de reporte considerando lo anterior\n",
    "def Reporte_de_misión(destino, *minutos, **reservas_de_combustible):\n",
    "    return f\"\"\"\n",
    "    Misión a: {destino}\n",
    "    Tiempo total de vuelo: {sum(minutos)} minutos\n",
    "    Combustible total restante: {sum(reservas_de_combustible.values())}\n",
    "    \"\"\"\n",
    "\n",
    "print(Reporte_de_misión(\"Luna\", 10, 15, 51, Principal=300000, Externo=200000))"
   ]
  },
  {
   "cell_type": "code",
   "execution_count": 7,
   "metadata": {},
   "outputs": [
    {
     "name": "stdout",
     "output_type": "stream",
     "text": [
      "\n",
      "    Misión a: Luna\n",
      "    Tiempo total de vuelo: 76 minutos\n",
      "    Combustible total restante: 500000\n",
      "    \n"
     ]
    }
   ],
   "source": [
    "# Escribe tu nueva función\n",
    "def Reporte_de_misión(destino, *minutos, **reservas_de_combustible):\n",
    "    return f\"\"\"\n",
    "    Misión a: {destino}\n",
    "    Tiempo total de vuelo: {sum(minutos)} minutos\n",
    "    Combustible total restante: {sum(reservas_de_combustible.values())}\n",
    "    \"\"\"\n",
    "    for nombre_de_tanque, galones in reservas_de_combustible.items():\n",
    "        Reporte_principal += f\"{nombre_de_tanque} tanque --> {galones} galones restantes\\n\"\n",
    "    return Reporte_principal\n",
    "\n",
    "print(Reporte_de_misión(\"Luna\", 10, 15, 51, Principal=300000, Externo=200000))"
   ]
  }
 ],
 "metadata": {
  "interpreter": {
   "hash": "1fc218987ba7cde18279e759fbac815badc8488d62b32762933d935254cba4d6"
  },
  "kernelspec": {
   "display_name": "Python 3.10.2 64-bit",
   "language": "python",
   "name": "python3"
  },
  "language_info": {
   "codemirror_mode": {
    "name": "ipython",
    "version": 3
   },
   "file_extension": ".py",
   "mimetype": "text/x-python",
   "name": "python",
   "nbconvert_exporter": "python",
   "pygments_lexer": "ipython3",
   "version": "3.10.2"
  },
  "orig_nbformat": 4
 },
 "nbformat": 4,
 "nbformat_minor": 2
}
